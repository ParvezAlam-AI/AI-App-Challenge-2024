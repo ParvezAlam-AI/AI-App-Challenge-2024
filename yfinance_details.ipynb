{
  "nbformat": 4,
  "nbformat_minor": 0,
  "metadata": {
    "colab": {
      "provenance": [],
      "authorship_tag": "ABX9TyNuuQMb4WiVAS2JB66Wm2vu"
    },
    "kernelspec": {
      "name": "python3",
      "display_name": "Python 3"
    },
    "language_info": {
      "name": "python"
    }
  },
  "cells": [
    {
      "cell_type": "markdown",
      "source": [
        "*updated with yf ranaroussi gitpage*\n",
        "\n",
        "\n",
        "\n",
        "*   https://www.youtube.com/watch?v=SxIwqdedomg\n",
        "*   https://github.com/ranaroussi/yfinance\n",
        "\n"
      ],
      "metadata": {
        "id": "HDASuvz0qJom"
      }
    },
    {
      "cell_type": "code",
      "source": [],
      "metadata": {
        "id": "_ok2veMdWuo9"
      },
      "execution_count": null,
      "outputs": []
    },
    {
      "cell_type": "code",
      "source": [],
      "metadata": {
        "id": "wiogOrRfqJMc"
      },
      "execution_count": null,
      "outputs": []
    },
    {
      "cell_type": "code",
      "execution_count": null,
      "metadata": {
        "colab": {
          "base_uri": "https://localhost:8080/"
        },
        "collapsed": true,
        "id": "-Q2TPmYOOAMG",
        "outputId": "29ef010c-3f59-4cee-947b-7e178e34973e"
      },
      "outputs": [
        {
          "output_type": "stream",
          "name": "stdout",
          "text": [
            "Requirement already satisfied: yfinance[nospam,repair] in /usr/local/lib/python3.10/dist-packages (0.2.43)\n",
            "Requirement already satisfied: pandas>=1.3.0 in /usr/local/lib/python3.10/dist-packages (from yfinance[nospam,repair]) (2.1.4)\n",
            "Requirement already satisfied: numpy>=1.16.5 in /usr/local/lib/python3.10/dist-packages (from yfinance[nospam,repair]) (1.26.4)\n",
            "Requirement already satisfied: requests>=2.31 in /usr/local/lib/python3.10/dist-packages (from yfinance[nospam,repair]) (2.32.3)\n",
            "Requirement already satisfied: multitasking>=0.0.7 in /usr/local/lib/python3.10/dist-packages (from yfinance[nospam,repair]) (0.0.11)\n",
            "Requirement already satisfied: lxml>=4.9.1 in /usr/local/lib/python3.10/dist-packages (from yfinance[nospam,repair]) (4.9.4)\n",
            "Requirement already satisfied: platformdirs>=2.0.0 in /usr/local/lib/python3.10/dist-packages (from yfinance[nospam,repair]) (4.3.6)\n",
            "Requirement already satisfied: pytz>=2022.5 in /usr/local/lib/python3.10/dist-packages (from yfinance[nospam,repair]) (2024.2)\n",
            "Requirement already satisfied: frozendict>=2.3.4 in /usr/local/lib/python3.10/dist-packages (from yfinance[nospam,repair]) (2.4.4)\n",
            "Requirement already satisfied: peewee>=3.16.2 in /usr/local/lib/python3.10/dist-packages (from yfinance[nospam,repair]) (3.17.6)\n",
            "Requirement already satisfied: beautifulsoup4>=4.11.1 in /usr/local/lib/python3.10/dist-packages (from yfinance[nospam,repair]) (4.12.3)\n",
            "Requirement already satisfied: html5lib>=1.1 in /usr/local/lib/python3.10/dist-packages (from yfinance[nospam,repair]) (1.1)\n",
            "Collecting requests-cache>=1.0 (from yfinance[nospam,repair])\n",
            "  Downloading requests_cache-1.2.1-py3-none-any.whl.metadata (9.9 kB)\n",
            "Collecting requests-ratelimiter>=0.3.1 (from yfinance[nospam,repair])\n",
            "  Downloading requests_ratelimiter-0.7.0-py3-none-any.whl.metadata (12 kB)\n",
            "Requirement already satisfied: scipy>=1.6.3 in /usr/local/lib/python3.10/dist-packages (from yfinance[nospam,repair]) (1.13.1)\n",
            "Requirement already satisfied: soupsieve>1.2 in /usr/local/lib/python3.10/dist-packages (from beautifulsoup4>=4.11.1->yfinance[nospam,repair]) (2.6)\n",
            "Requirement already satisfied: six>=1.9 in /usr/local/lib/python3.10/dist-packages (from html5lib>=1.1->yfinance[nospam,repair]) (1.16.0)\n",
            "Requirement already satisfied: webencodings in /usr/local/lib/python3.10/dist-packages (from html5lib>=1.1->yfinance[nospam,repair]) (0.5.1)\n",
            "Requirement already satisfied: python-dateutil>=2.8.2 in /usr/local/lib/python3.10/dist-packages (from pandas>=1.3.0->yfinance[nospam,repair]) (2.8.2)\n",
            "Requirement already satisfied: tzdata>=2022.1 in /usr/local/lib/python3.10/dist-packages (from pandas>=1.3.0->yfinance[nospam,repair]) (2024.1)\n",
            "Requirement already satisfied: charset-normalizer<4,>=2 in /usr/local/lib/python3.10/dist-packages (from requests>=2.31->yfinance[nospam,repair]) (3.3.2)\n",
            "Requirement already satisfied: idna<4,>=2.5 in /usr/local/lib/python3.10/dist-packages (from requests>=2.31->yfinance[nospam,repair]) (3.10)\n",
            "Requirement already satisfied: urllib3<3,>=1.21.1 in /usr/local/lib/python3.10/dist-packages (from requests>=2.31->yfinance[nospam,repair]) (2.2.3)\n",
            "Requirement already satisfied: certifi>=2017.4.17 in /usr/local/lib/python3.10/dist-packages (from requests>=2.31->yfinance[nospam,repair]) (2024.8.30)\n",
            "Requirement already satisfied: attrs>=21.2 in /usr/local/lib/python3.10/dist-packages (from requests-cache>=1.0->yfinance[nospam,repair]) (24.2.0)\n",
            "Collecting cattrs>=22.2 (from requests-cache>=1.0->yfinance[nospam,repair])\n",
            "  Downloading cattrs-24.1.2-py3-none-any.whl.metadata (8.4 kB)\n",
            "Collecting url-normalize>=1.4 (from requests-cache>=1.0->yfinance[nospam,repair])\n",
            "  Downloading url_normalize-1.4.3-py2.py3-none-any.whl.metadata (3.1 kB)\n",
            "Collecting pyrate-limiter<3.0 (from requests-ratelimiter>=0.3.1->yfinance[nospam,repair])\n",
            "  Downloading pyrate_limiter-2.10.0-py3-none-any.whl.metadata (15 kB)\n",
            "Requirement already satisfied: exceptiongroup>=1.1.1 in /usr/local/lib/python3.10/dist-packages (from cattrs>=22.2->requests-cache>=1.0->yfinance[nospam,repair]) (1.2.2)\n",
            "Requirement already satisfied: typing-extensions!=4.6.3,>=4.1.0 in /usr/local/lib/python3.10/dist-packages (from cattrs>=22.2->requests-cache>=1.0->yfinance[nospam,repair]) (4.12.2)\n",
            "Downloading requests_cache-1.2.1-py3-none-any.whl (61 kB)\n",
            "\u001b[2K   \u001b[90m━━━━━━━━━━━━━━━━━━━━━━━━━━━━━━━━━━━━━━━━\u001b[0m \u001b[32m61.4/61.4 kB\u001b[0m \u001b[31m2.6 MB/s\u001b[0m eta \u001b[36m0:00:00\u001b[0m\n",
            "\u001b[?25hDownloading requests_ratelimiter-0.7.0-py3-none-any.whl (9.3 kB)\n",
            "Downloading cattrs-24.1.2-py3-none-any.whl (66 kB)\n",
            "\u001b[2K   \u001b[90m━━━━━━━━━━━━━━━━━━━━━━━━━━━━━━━━━━━━━━━━\u001b[0m \u001b[32m66.4/66.4 kB\u001b[0m \u001b[31m5.0 MB/s\u001b[0m eta \u001b[36m0:00:00\u001b[0m\n",
            "\u001b[?25hDownloading pyrate_limiter-2.10.0-py3-none-any.whl (16 kB)\n",
            "Downloading url_normalize-1.4.3-py2.py3-none-any.whl (6.8 kB)\n",
            "Installing collected packages: url-normalize, pyrate-limiter, cattrs, requests-ratelimiter, requests-cache\n",
            "Successfully installed cattrs-24.1.2 pyrate-limiter-2.10.0 requests-cache-1.2.1 requests-ratelimiter-0.7.0 url-normalize-1.4.3\n"
          ]
        }
      ],
      "source": [
        "!pip install yfinance[nospam,repair]\n"
      ]
    },
    {
      "cell_type": "code",
      "source": [],
      "metadata": {
        "id": "fjS2QjtLP80R"
      },
      "execution_count": null,
      "outputs": []
    },
    {
      "cell_type": "code",
      "source": [
        "import yfinance as yf\n",
        "import pandas as pd\n",
        "import requests\n",
        "import os\n",
        "import json\n",
        "import matplotlib.pyplot as plt\n",
        "import seaborn as sns"
      ],
      "metadata": {
        "id": "qrI8fpHXOSZq"
      },
      "execution_count": null,
      "outputs": []
    },
    {
      "cell_type": "code",
      "source": [
        "dir(yf)"
      ],
      "metadata": {
        "colab": {
          "base_uri": "https://localhost:8080/"
        },
        "collapsed": true,
        "id": "dDbgkBNPPoMh",
        "outputId": "5be3cdf8-21e1-4ec3-f482-e3ea36795a15"
      },
      "execution_count": null,
      "outputs": [
        {
          "output_type": "execute_result",
          "data": {
            "text/plain": [
              "['Ticker',\n",
              " 'Tickers',\n",
              " '__all__',\n",
              " '__author__',\n",
              " '__builtins__',\n",
              " '__cached__',\n",
              " '__doc__',\n",
              " '__file__',\n",
              " '__loader__',\n",
              " '__name__',\n",
              " '__package__',\n",
              " '__path__',\n",
              " '__spec__',\n",
              " '__version__',\n",
              " 'base',\n",
              " 'cache',\n",
              " 'const',\n",
              " 'data',\n",
              " 'download',\n",
              " 'enable_debug_mode',\n",
              " 'exceptions',\n",
              " 'multi',\n",
              " 'scrapers',\n",
              " 'set_tz_cache_location',\n",
              " 'shared',\n",
              " 'ticker',\n",
              " 'tickers',\n",
              " 'utils',\n",
              " 'version',\n",
              " 'warnings']"
            ]
          },
          "metadata": {},
          "execution_count": 4
        }
      ]
    },
    {
      "cell_type": "code",
      "source": [
        "stock1 = yf.Ticker(\"goog\")\n",
        "stock1"
      ],
      "metadata": {
        "colab": {
          "base_uri": "https://localhost:8080/"
        },
        "id": "MjkWJ2GzQCoZ",
        "outputId": "92e1a853-397b-44de-9220-7c9df5ef6d50"
      },
      "execution_count": null,
      "outputs": [
        {
          "output_type": "execute_result",
          "data": {
            "text/plain": [
              "yfinance.Ticker object <GOOG>"
            ]
          },
          "metadata": {},
          "execution_count": 5
        }
      ]
    },
    {
      "cell_type": "code",
      "source": [
        "stock1 = yf.Tickers(\"goog\")\n",
        "stock1"
      ],
      "metadata": {
        "colab": {
          "base_uri": "https://localhost:8080/"
        },
        "id": "tfCTQ0LrSr67",
        "outputId": "bd2ed5fb-a460-4507-a415-ea84f724ed0a"
      },
      "execution_count": null,
      "outputs": [
        {
          "output_type": "execute_result",
          "data": {
            "text/plain": [
              "yfinance.Tickers object <GOOG>"
            ]
          },
          "metadata": {},
          "execution_count": 6
        }
      ]
    },
    {
      "cell_type": "markdown",
      "source": [
        "Get stock info\n",
        "  "
      ],
      "metadata": {
        "id": "K8Y-PJXsj0aS"
      }
    },
    {
      "cell_type": "code",
      "source": [
        "msft = yf.Ticker(\"MSFT\")\n",
        "msft.info"
      ],
      "metadata": {
        "colab": {
          "base_uri": "https://localhost:8080/"
        },
        "id": "_KYVwTM-j0Bc",
        "outputId": "9f1a5000-bf1a-4545-9f86-a287035ef201",
        "collapsed": true
      },
      "execution_count": null,
      "outputs": [
        {
          "output_type": "execute_result",
          "data": {
            "text/plain": [
              "{'address1': 'One Microsoft Way',\n",
              " 'city': 'Redmond',\n",
              " 'state': 'WA',\n",
              " 'zip': '98052-6399',\n",
              " 'country': 'United States',\n",
              " 'phone': '425 882 8080',\n",
              " 'website': 'https://www.microsoft.com',\n",
              " 'industry': 'Software - Infrastructure',\n",
              " 'industryKey': 'software-infrastructure',\n",
              " 'industryDisp': 'Software - Infrastructure',\n",
              " 'sector': 'Technology',\n",
              " 'sectorKey': 'technology',\n",
              " 'sectorDisp': 'Technology',\n",
              " 'longBusinessSummary': 'Microsoft Corporation develops and supports software, services, devices and solutions worldwide. The Productivity and Business Processes segment offers office, exchange, SharePoint, Microsoft Teams, office 365 Security and Compliance, Microsoft viva, and Microsoft 365 copilot; and office consumer services, such as Microsoft 365 consumer subscriptions, Office licensed on-premises, and other office services. This segment also provides LinkedIn; and dynamics business solutions, including Dynamics 365, a set of intelligent, cloud-based applications across ERP, CRM, power apps, and power automate; and on-premises ERP and CRM applications. The Intelligent Cloud segment offers server products and cloud services, such as azure and other cloud services; SQL and windows server, visual studio, system center, and related client access licenses, as well as nuance and GitHub; and enterprise services including enterprise support services, industry solutions, and nuance professional services. The More Personal Computing segment offers Windows, including windows OEM licensing and other non-volume licensing of the Windows operating system; Windows commercial comprising volume licensing of the Windows operating system, windows cloud services, and other Windows commercial offerings; patent licensing; and windows Internet of Things; and devices, such as surface, HoloLens, and PC accessories. Additionally, this segment provides gaming, which includes Xbox hardware and content, and first- and third-party content; Xbox game pass and other subscriptions, cloud gaming, advertising, third-party disc royalties, and other cloud services; and search and news advertising, which includes Bing, Microsoft News and Edge, and third-party affiliates. The company sells its products through OEMs, distributors, and resellers; and directly through digital marketplaces, online, and retail stores. The company was founded in 1975 and is headquartered in Redmond, Washington.',\n",
              " 'fullTimeEmployees': 228000,\n",
              " 'companyOfficers': [{'maxAge': 1,\n",
              "   'name': 'Mr. Satya  Nadella',\n",
              "   'age': 56,\n",
              "   'title': 'Chairman & CEO',\n",
              "   'yearBorn': 1967,\n",
              "   'fiscalYear': 2023,\n",
              "   'totalPay': 9276400,\n",
              "   'exercisedValue': 0,\n",
              "   'unexercisedValue': 0},\n",
              "  {'maxAge': 1,\n",
              "   'name': 'Mr. Bradford L. Smith LCA',\n",
              "   'age': 64,\n",
              "   'title': 'President & Vice Chairman',\n",
              "   'yearBorn': 1959,\n",
              "   'fiscalYear': 2023,\n",
              "   'totalPay': 3591277,\n",
              "   'exercisedValue': 0,\n",
              "   'unexercisedValue': 0},\n",
              "  {'maxAge': 1,\n",
              "   'name': 'Ms. Amy E. Hood',\n",
              "   'age': 51,\n",
              "   'title': 'Executive VP & CFO',\n",
              "   'yearBorn': 1972,\n",
              "   'fiscalYear': 2023,\n",
              "   'totalPay': 3452196,\n",
              "   'exercisedValue': 0,\n",
              "   'unexercisedValue': 0},\n",
              "  {'maxAge': 1,\n",
              "   'name': 'Mr. Judson B. Althoff',\n",
              "   'age': 50,\n",
              "   'title': 'Executive VP & Chief Commercial Officer',\n",
              "   'yearBorn': 1973,\n",
              "   'fiscalYear': 2023,\n",
              "   'totalPay': 3355797,\n",
              "   'exercisedValue': 0,\n",
              "   'unexercisedValue': 0},\n",
              "  {'maxAge': 1,\n",
              "   'name': 'Mr. Christopher David Young',\n",
              "   'age': 51,\n",
              "   'title': 'Executive Vice President of Business Development, Strategy & Ventures',\n",
              "   'yearBorn': 1972,\n",
              "   'fiscalYear': 2023,\n",
              "   'totalPay': 2460507,\n",
              "   'exercisedValue': 0,\n",
              "   'unexercisedValue': 0},\n",
              "  {'maxAge': 1,\n",
              "   'name': 'Ms. Carolina  Dybeck Happe',\n",
              "   'age': 51,\n",
              "   'title': 'Executive VP & COO',\n",
              "   'yearBorn': 1972,\n",
              "   'fiscalYear': 2023,\n",
              "   'exercisedValue': 0,\n",
              "   'unexercisedValue': 0},\n",
              "  {'maxAge': 1,\n",
              "   'name': 'Ms. Alice L. Jolla',\n",
              "   'age': 57,\n",
              "   'title': 'Corporate VP & Chief Accounting Officer',\n",
              "   'yearBorn': 1966,\n",
              "   'fiscalYear': 2023,\n",
              "   'exercisedValue': 0,\n",
              "   'unexercisedValue': 0},\n",
              "  {'maxAge': 1,\n",
              "   'name': 'Mr. James Kevin Scott',\n",
              "   'age': 51,\n",
              "   'title': 'Executive VP of AI & CTO',\n",
              "   'yearBorn': 1972,\n",
              "   'fiscalYear': 2023,\n",
              "   'exercisedValue': 0,\n",
              "   'unexercisedValue': 0},\n",
              "  {'maxAge': 1,\n",
              "   'name': 'Brett  Iversen',\n",
              "   'title': 'Vice President of Investor Relations',\n",
              "   'fiscalYear': 2023,\n",
              "   'exercisedValue': 0,\n",
              "   'unexercisedValue': 0},\n",
              "  {'maxAge': 1,\n",
              "   'name': 'Mr. Hossein  Nowbar',\n",
              "   'title': 'Chief Legal Officer',\n",
              "   'fiscalYear': 2023,\n",
              "   'exercisedValue': 0,\n",
              "   'unexercisedValue': 0}],\n",
              " 'auditRisk': 2,\n",
              " 'boardRisk': 5,\n",
              " 'compensationRisk': 2,\n",
              " 'shareHolderRightsRisk': 2,\n",
              " 'overallRisk': 1,\n",
              " 'governanceEpochDate': 1727481600,\n",
              " 'compensationAsOfEpochDate': 1703980800,\n",
              " 'irWebsite': 'http://www.microsoft.com/investor/default.aspx',\n",
              " 'maxAge': 86400,\n",
              " 'priceHint': 2,\n",
              " 'previousClose': 428.02,\n",
              " 'open': 428.2,\n",
              " 'dayLow': 425.57,\n",
              " 'dayHigh': 429.5705,\n",
              " 'regularMarketPreviousClose': 428.02,\n",
              " 'regularMarketOpen': 428.2,\n",
              " 'regularMarketDayLow': 425.57,\n",
              " 'regularMarketDayHigh': 429.5705,\n",
              " 'dividendRate': 3.32,\n",
              " 'dividendYield': 0.0078,\n",
              " 'exDividendDate': 1732147200,\n",
              " 'payoutRatio': 0.2483,\n",
              " 'fiveYearAvgDividendYield': 0.9,\n",
              " 'beta': 0.896,\n",
              " 'trailingPE': 36.24767,\n",
              " 'forwardPE': 28.14497,\n",
              " 'volume': 4476938,\n",
              " 'regularMarketVolume': 4476938,\n",
              " 'averageVolume': 19880549,\n",
              " 'averageVolume10days': 20340230,\n",
              " 'averageDailyVolume10Day': 20340230,\n",
              " 'bid': 427.91,\n",
              " 'ask': 428.29,\n",
              " 'bidSize': 100,\n",
              " 'askSize': 100,\n",
              " 'marketCap': 3181972815872,\n",
              " 'fiftyTwoWeekLow': 311.21,\n",
              " 'fiftyTwoWeekHigh': 468.35,\n",
              " 'priceToSalesTrailing12Months': 12.981179,\n",
              " 'fiftyDayAverage': 419.9102,\n",
              " 'twoHundredDayAverage': 415.3893,\n",
              " 'trailingAnnualDividendRate': 3.0,\n",
              " 'trailingAnnualDividendYield': 0.0070090187,\n",
              " 'currency': 'USD',\n",
              " 'enterpriseValue': 3203810197504,\n",
              " 'profitMargins': 0.35956,\n",
              " 'floatShares': 7422780788,\n",
              " 'sharesOutstanding': 7433039872,\n",
              " 'sharesShort': 67500308,\n",
              " 'sharesShortPriorMonth': 54789102,\n",
              " 'sharesShortPreviousMonthDate': 1723680000,\n",
              " 'dateShortInterest': 1726185600,\n",
              " 'sharesPercentSharesOut': 0.0091,\n",
              " 'heldPercentInsiders': 0.00055,\n",
              " 'heldPercentInstitutions': 0.73740995,\n",
              " 'shortRatio': 3.82,\n",
              " 'shortPercentOfFloat': 0.0091,\n",
              " 'impliedSharesOutstanding': 7433039872,\n",
              " 'bookValue': 36.115,\n",
              " 'priceToBook': 11.853384,\n",
              " 'lastFiscalYearEnd': 1719705600,\n",
              " 'nextFiscalYearEnd': 1751241600,\n",
              " 'mostRecentQuarter': 1719705600,\n",
              " 'earningsQuarterlyGrowth': 0.097,\n",
              " 'netIncomeToCommon': 88135999488,\n",
              " 'trailingEps': 11.81,\n",
              " 'forwardEps': 15.21,\n",
              " 'pegRatio': 2.24,\n",
              " 'lastSplitFactor': '2:1',\n",
              " 'lastSplitDate': 1045526400,\n",
              " 'enterpriseToRevenue': 13.07,\n",
              " 'enterpriseToEbitda': 24.753,\n",
              " '52WeekChange': 0.33008075,\n",
              " 'SandP52WeekChange': 0.338071,\n",
              " 'lastDividendValue': 0.75,\n",
              " 'lastDividendDate': 1723680000,\n",
              " 'exchange': 'NMS',\n",
              " 'quoteType': 'EQUITY',\n",
              " 'symbol': 'MSFT',\n",
              " 'underlyingSymbol': 'MSFT',\n",
              " 'shortName': 'Microsoft Corporation',\n",
              " 'longName': 'Microsoft Corporation',\n",
              " 'firstTradeDateEpochUtc': 511108200,\n",
              " 'timeZoneFullName': 'America/New_York',\n",
              " 'timeZoneShortName': 'EDT',\n",
              " 'uuid': 'b004b3ec-de24-385e-b2c1-923f10d3fb62',\n",
              " 'messageBoardId': 'finmb_21835',\n",
              " 'gmtOffSetMilliseconds': -14400000,\n",
              " 'currentPrice': 428.085,\n",
              " 'targetHighPrice': 600.0,\n",
              " 'targetLowPrice': 440.0,\n",
              " 'targetMeanPrice': 496.38,\n",
              " 'targetMedianPrice': 500.0,\n",
              " 'recommendationMean': 1.7,\n",
              " 'recommendationKey': 'buy',\n",
              " 'numberOfAnalystOpinions': 47,\n",
              " 'totalCash': 75531001856,\n",
              " 'totalCashPerShare': 10.162,\n",
              " 'ebitda': 129433001984,\n",
              " 'totalDebt': 97851998208,\n",
              " 'quickRatio': 1.141,\n",
              " 'currentRatio': 1.275,\n",
              " 'totalRevenue': 245122007040,\n",
              " 'debtToEquity': 36.447,\n",
              " 'revenuePerShare': 32.986,\n",
              " 'returnOnAssets': 0.14802,\n",
              " 'returnOnEquity': 0.37133,\n",
              " 'freeCashflow': 56705249280,\n",
              " 'operatingCashflow': 118547996672,\n",
              " 'earningsGrowth': 0.097,\n",
              " 'revenueGrowth': 0.152,\n",
              " 'grossMargins': 0.69764,\n",
              " 'ebitdaMargins': 0.52804,\n",
              " 'operatingMargins': 0.43143,\n",
              " 'financialCurrency': 'USD',\n",
              " 'trailingPegRatio': 2.3133}"
            ]
          },
          "metadata": {},
          "execution_count": 12
        }
      ]
    },
    {
      "cell_type": "code",
      "source": [],
      "metadata": {
        "id": "bI-qqFhKS1lD"
      },
      "execution_count": null,
      "outputs": []
    },
    {
      "cell_type": "code",
      "source": [
        "help(yf.Ticker)"
      ],
      "metadata": {
        "colab": {
          "base_uri": "https://localhost:8080/"
        },
        "collapsed": true,
        "id": "jHiKk-0YTZDK",
        "outputId": "0d2650f5-5dc0-4cf8-86ed-89af78e9cc60"
      },
      "execution_count": null,
      "outputs": [
        {
          "output_type": "stream",
          "name": "stdout",
          "text": [
            "Help on class Ticker in module yfinance.ticker:\n",
            "\n",
            "class Ticker(yfinance.base.TickerBase)\n",
            " |  Ticker(ticker, session=None, proxy=None)\n",
            " |  \n",
            " |  Method resolution order:\n",
            " |      Ticker\n",
            " |      yfinance.base.TickerBase\n",
            " |      builtins.object\n",
            " |  \n",
            " |  Methods defined here:\n",
            " |  \n",
            " |  __init__(self, ticker, session=None, proxy=None)\n",
            " |      Initialize self.  See help(type(self)) for accurate signature.\n",
            " |  \n",
            " |  __repr__(self)\n",
            " |      Return repr(self).\n",
            " |  \n",
            " |  option_chain(self, date=None, tz=None)\n",
            " |  \n",
            " |  ----------------------------------------------------------------------\n",
            " |  Readonly properties defined here:\n",
            " |  \n",
            " |  actions\n",
            " |  \n",
            " |  analyst_price_targets\n",
            " |  \n",
            " |  balance_sheet\n",
            " |  \n",
            " |  balancesheet\n",
            " |  \n",
            " |  calendar\n",
            " |      Returns a dictionary of events, earnings, and dividends for the ticker\n",
            " |  \n",
            " |  capital_gains\n",
            " |  \n",
            " |  cash_flow\n",
            " |  \n",
            " |  cashflow\n",
            " |  \n",
            " |  dividends\n",
            " |  \n",
            " |  earnings\n",
            " |  \n",
            " |  earnings_dates\n",
            " |  \n",
            " |  earnings_estimate\n",
            " |  \n",
            " |  earnings_history\n",
            " |  \n",
            " |  eps_revisions\n",
            " |  \n",
            " |  eps_trend\n",
            " |  \n",
            " |  fast_info\n",
            " |  \n",
            " |  financials\n",
            " |  \n",
            " |  growth_estimates\n",
            " |  \n",
            " |  history_metadata\n",
            " |  \n",
            " |  income_stmt\n",
            " |  \n",
            " |  incomestmt\n",
            " |  \n",
            " |  info\n",
            " |  \n",
            " |  insider_purchases\n",
            " |  \n",
            " |  insider_roster_holders\n",
            " |  \n",
            " |  insider_transactions\n",
            " |  \n",
            " |  institutional_holders\n",
            " |  \n",
            " |  isin\n",
            " |  \n",
            " |  major_holders\n",
            " |  \n",
            " |  mutualfund_holders\n",
            " |  \n",
            " |  news\n",
            " |  \n",
            " |  options\n",
            " |  \n",
            " |  quarterly_balance_sheet\n",
            " |  \n",
            " |  quarterly_balancesheet\n",
            " |  \n",
            " |  quarterly_cash_flow\n",
            " |  \n",
            " |  quarterly_cashflow\n",
            " |  \n",
            " |  quarterly_earnings\n",
            " |  \n",
            " |  quarterly_financials\n",
            " |  \n",
            " |  quarterly_income_stmt\n",
            " |  \n",
            " |  quarterly_incomestmt\n",
            " |  \n",
            " |  recommendations\n",
            " |  \n",
            " |  recommendations_summary\n",
            " |  \n",
            " |  revenue_estimate\n",
            " |  \n",
            " |  sec_filings\n",
            " |  \n",
            " |  shares\n",
            " |  \n",
            " |  splits\n",
            " |  \n",
            " |  sustainability\n",
            " |  \n",
            " |  upgrades_downgrades\n",
            " |  \n",
            " |  ----------------------------------------------------------------------\n",
            " |  Methods inherited from yfinance.base.TickerBase:\n",
            " |  \n",
            " |  get_actions(self, proxy=None) -> pandas.core.series.Series\n",
            " |  \n",
            " |  get_analyst_price_targets(self, proxy=None) -> dict\n",
            " |      Keys:   current  low  high  mean  median\n",
            " |  \n",
            " |  get_balance_sheet(self, proxy=None, as_dict=False, pretty=False, freq='yearly')\n",
            " |      :Parameters:\n",
            " |          as_dict: bool\n",
            " |              Return table as Python dict\n",
            " |              Default is False\n",
            " |          pretty: bool\n",
            " |              Format row names nicely for readability\n",
            " |              Default is False\n",
            " |          freq: str\n",
            " |              \"yearly\" or \"quarterly\"\n",
            " |              Default is \"yearly\"\n",
            " |          proxy: str\n",
            " |              Optional. Proxy server URL scheme\n",
            " |              Default is None\n",
            " |  \n",
            " |  get_balancesheet(self, proxy=None, as_dict=False, pretty=False, freq='yearly')\n",
            " |  \n",
            " |  get_calendar(self, proxy=None) -> dict\n",
            " |  \n",
            " |  get_capital_gains(self, proxy=None) -> pandas.core.series.Series\n",
            " |  \n",
            " |  get_cash_flow(self, proxy=None, as_dict=False, pretty=False, freq='yearly') -> Union[pandas.core.frame.DataFrame, dict]\n",
            " |      :Parameters:\n",
            " |          as_dict: bool\n",
            " |              Return table as Python dict\n",
            " |              Default is False\n",
            " |          pretty: bool\n",
            " |              Format row names nicely for readability\n",
            " |              Default is False\n",
            " |          freq: str\n",
            " |              \"yearly\" or \"quarterly\"\n",
            " |              Default is \"yearly\"\n",
            " |          proxy: str\n",
            " |              Optional. Proxy server URL scheme\n",
            " |              Default is None\n",
            " |  \n",
            " |  get_cashflow(self, proxy=None, as_dict=False, pretty=False, freq='yearly')\n",
            " |  \n",
            " |  get_dividends(self, proxy=None) -> pandas.core.series.Series\n",
            " |  \n",
            " |  get_earnings(self, proxy=None, as_dict=False, freq='yearly')\n",
            " |      :Parameters:\n",
            " |          as_dict: bool\n",
            " |              Return table as Python dict\n",
            " |              Default is False\n",
            " |          freq: str\n",
            " |              \"yearly\" or \"quarterly\"\n",
            " |              Default is \"yearly\"\n",
            " |          proxy: str\n",
            " |              Optional. Proxy server URL scheme\n",
            " |              Default is None\n",
            " |  \n",
            " |  get_earnings_dates(self, limit=12, proxy=None) -> Optional[pandas.core.frame.DataFrame]\n",
            " |      Get earning dates (future and historic)\n",
            " |      :param limit: max amount of upcoming and recent earnings dates to return.\n",
            " |                    Default value 12 should return next 4 quarters and last 8 quarters.\n",
            " |                    Increase if more history is needed.\n",
            " |      \n",
            " |      :param proxy: requests proxy to use.\n",
            " |      :return: pandas dataframe\n",
            " |  \n",
            " |  get_earnings_estimate(self, proxy=None, as_dict=False)\n",
            " |      Index:      0q  +1q  0y  +1y\n",
            " |      Columns:    numberOfAnalysts  avg  low  high  yearAgoEps  growth\n",
            " |  \n",
            " |  get_earnings_history(self, proxy=None, as_dict=False)\n",
            " |      Index:      pd.DatetimeIndex\n",
            " |      Columns:    epsEstimate  epsActual  epsDifference  surprisePercent\n",
            " |  \n",
            " |  get_eps_revisions(self, proxy=None, as_dict=False)\n",
            " |      Index:      0q  +1q  0y  +1y\n",
            " |      Columns:    upLast7days  upLast30days  downLast7days  downLast30days\n",
            " |  \n",
            " |  get_eps_trend(self, proxy=None, as_dict=False)\n",
            " |      Index:      0q  +1q  0y  +1y\n",
            " |      Columns:    current  7daysAgo  30daysAgo  60daysAgo  90daysAgo\n",
            " |  \n",
            " |  get_fast_info(self, proxy=None)\n",
            " |  \n",
            " |  get_financials(self, proxy=None, as_dict=False, pretty=False, freq='yearly')\n",
            " |  \n",
            " |  get_growth_estimates(self, proxy=None, as_dict=False)\n",
            " |      Index:      0q  +1q  0y  +1y +5y -5y\n",
            " |      Columns:    stock  industry  sector  index\n",
            " |  \n",
            " |  get_history_metadata(self, proxy=None) -> dict\n",
            " |  \n",
            " |  get_income_stmt(self, proxy=None, as_dict=False, pretty=False, freq='yearly')\n",
            " |      :Parameters:\n",
            " |          as_dict: bool\n",
            " |              Return table as Python dict\n",
            " |              Default is False\n",
            " |          pretty: bool\n",
            " |              Format row names nicely for readability\n",
            " |              Default is False\n",
            " |          freq: str\n",
            " |              \"yearly\" or \"quarterly\"\n",
            " |              Default is \"yearly\"\n",
            " |          proxy: str\n",
            " |              Optional. Proxy server URL scheme\n",
            " |              Default is None\n",
            " |  \n",
            " |  get_incomestmt(self, proxy=None, as_dict=False, pretty=False, freq='yearly')\n",
            " |  \n",
            " |  get_info(self, proxy=None) -> dict\n",
            " |  \n",
            " |  get_insider_purchases(self, proxy=None, as_dict=False)\n",
            " |  \n",
            " |  get_insider_roster_holders(self, proxy=None, as_dict=False)\n",
            " |  \n",
            " |  get_insider_transactions(self, proxy=None, as_dict=False)\n",
            " |  \n",
            " |  get_institutional_holders(self, proxy=None, as_dict=False)\n",
            " |  \n",
            " |  get_isin(self, proxy=None) -> Optional[str]\n",
            " |  \n",
            " |  get_major_holders(self, proxy=None, as_dict=False)\n",
            " |  \n",
            " |  get_mutualfund_holders(self, proxy=None, as_dict=False)\n",
            " |  \n",
            " |  get_news(self, proxy=None) -> list\n",
            " |  \n",
            " |  get_recommendations(self, proxy=None, as_dict=False)\n",
            " |      Returns a DataFrame with the recommendations\n",
            " |      Columns: period  strongBuy  buy  hold  sell  strongSell\n",
            " |  \n",
            " |  get_recommendations_summary(self, proxy=None, as_dict=False)\n",
            " |  \n",
            " |  get_revenue_estimate(self, proxy=None, as_dict=False)\n",
            " |      Index:      0q  +1q  0y  +1y\n",
            " |      Columns:    numberOfAnalysts  avg  low  high  yearAgoRevenue  growth\n",
            " |  \n",
            " |  get_sec_filings(self, proxy=None) -> dict\n",
            " |  \n",
            " |  get_shares(self, proxy=None, as_dict=False) -> Union[pandas.core.frame.DataFrame, dict]\n",
            " |  \n",
            " |  get_shares_full(self, start=None, end=None, proxy=None)\n",
            " |  \n",
            " |  get_splits(self, proxy=None) -> pandas.core.series.Series\n",
            " |  \n",
            " |  get_sustainability(self, proxy=None, as_dict=False)\n",
            " |  \n",
            " |  get_upgrades_downgrades(self, proxy=None, as_dict=False)\n",
            " |      Returns a DataFrame with the recommendations changes (upgrades/downgrades)\n",
            " |      Index: date of grade\n",
            " |      Columns: firm toGrade fromGrade action\n",
            " |  \n",
            " |  history(self, *args, **kwargs) -> pandas.core.frame.DataFrame\n",
            " |  \n",
            " |  ----------------------------------------------------------------------\n",
            " |  Readonly properties inherited from yfinance.base.TickerBase:\n",
            " |  \n",
            " |  basic_info\n",
            " |  \n",
            " |  ----------------------------------------------------------------------\n",
            " |  Data descriptors inherited from yfinance.base.TickerBase:\n",
            " |  \n",
            " |  __dict__\n",
            " |      dictionary for instance variables (if defined)\n",
            " |  \n",
            " |  __weakref__\n",
            " |      list of weak references to the object (if defined)\n",
            "\n"
          ]
        }
      ]
    },
    {
      "cell_type": "code",
      "source": [
        "dir(yf.base.TickerBase)"
      ],
      "metadata": {
        "colab": {
          "base_uri": "https://localhost:8080/"
        },
        "collapsed": true,
        "id": "Olu-s0lPUei7",
        "outputId": "02af868a-0472-4b8e-95bd-bcc7555c11e3"
      },
      "execution_count": null,
      "outputs": [
        {
          "output_type": "execute_result",
          "data": {
            "text/plain": [
              "['__class__',\n",
              " '__delattr__',\n",
              " '__dict__',\n",
              " '__dir__',\n",
              " '__doc__',\n",
              " '__eq__',\n",
              " '__format__',\n",
              " '__ge__',\n",
              " '__getattribute__',\n",
              " '__gt__',\n",
              " '__hash__',\n",
              " '__init__',\n",
              " '__init_subclass__',\n",
              " '__le__',\n",
              " '__lt__',\n",
              " '__module__',\n",
              " '__ne__',\n",
              " '__new__',\n",
              " '__reduce__',\n",
              " '__reduce_ex__',\n",
              " '__repr__',\n",
              " '__setattr__',\n",
              " '__sizeof__',\n",
              " '__str__',\n",
              " '__subclasshook__',\n",
              " '__weakref__',\n",
              " '_fetch_ticker_tz',\n",
              " '_get_ticker_tz',\n",
              " '_lazy_load_price_history',\n",
              " 'basic_info',\n",
              " 'get_actions',\n",
              " 'get_analyst_price_targets',\n",
              " 'get_balance_sheet',\n",
              " 'get_balancesheet',\n",
              " 'get_calendar',\n",
              " 'get_capital_gains',\n",
              " 'get_cash_flow',\n",
              " 'get_cashflow',\n",
              " 'get_dividends',\n",
              " 'get_earnings',\n",
              " 'get_earnings_dates',\n",
              " 'get_earnings_estimate',\n",
              " 'get_earnings_history',\n",
              " 'get_eps_revisions',\n",
              " 'get_eps_trend',\n",
              " 'get_fast_info',\n",
              " 'get_financials',\n",
              " 'get_growth_estimates',\n",
              " 'get_history_metadata',\n",
              " 'get_income_stmt',\n",
              " 'get_incomestmt',\n",
              " 'get_info',\n",
              " 'get_insider_purchases',\n",
              " 'get_insider_roster_holders',\n",
              " 'get_insider_transactions',\n",
              " 'get_institutional_holders',\n",
              " 'get_isin',\n",
              " 'get_major_holders',\n",
              " 'get_mutualfund_holders',\n",
              " 'get_news',\n",
              " 'get_recommendations',\n",
              " 'get_recommendations_summary',\n",
              " 'get_revenue_estimate',\n",
              " 'get_sec_filings',\n",
              " 'get_shares',\n",
              " 'get_shares_full',\n",
              " 'get_splits',\n",
              " 'get_sustainability',\n",
              " 'get_upgrades_downgrades',\n",
              " 'history']"
            ]
          },
          "metadata": {},
          "execution_count": 9
        }
      ]
    },
    {
      "cell_type": "markdown",
      "source": [
        "# extract company details\n"
      ],
      "metadata": {
        "id": "x40PtMwqgUla"
      }
    },
    {
      "cell_type": "code",
      "source": [
        "ticker_symbol = yf.Ticker(\"amd\")\n",
        "ticker_symbol"
      ],
      "metadata": {
        "colab": {
          "base_uri": "https://localhost:8080/"
        },
        "id": "uewVZknSgXn9",
        "outputId": "a17dab49-ba35-48b7-ba82-42c1ddf3dd80"
      },
      "execution_count": null,
      "outputs": [
        {
          "output_type": "execute_result",
          "data": {
            "text/plain": [
              "yfinance.Ticker object <AMD>"
            ]
          },
          "metadata": {},
          "execution_count": 19
        }
      ]
    },
    {
      "cell_type": "code",
      "source": [
        "def get_comp_info(ticker_name):\n",
        "  ticker_name = yf.Ticker(ticker_name)\n",
        "  stock_info = ticker_name.info\n",
        "\n",
        "  comp_name = stock_info.get('longname','N/A')\n",
        "  sector = stock_info.get('sector','N/A')\n",
        "  industry = stock_info.get('industry','N/A')\n",
        "\n",
        "  return comp_name,sector,industry"
      ],
      "metadata": {
        "id": "7S7QwRnBhs0V"
      },
      "execution_count": null,
      "outputs": []
    },
    {
      "cell_type": "code",
      "source": [
        "get_comp_info('amd')"
      ],
      "metadata": {
        "colab": {
          "base_uri": "https://localhost:8080/"
        },
        "id": "Ge586dedlyof",
        "outputId": "052bd97b-bc80-4548-da66-13a98733bae2"
      },
      "execution_count": null,
      "outputs": [
        {
          "output_type": "execute_result",
          "data": {
            "text/plain": [
              "('N/A', 'Technology', 'Semiconductors')"
            ]
          },
          "metadata": {},
          "execution_count": 25
        }
      ]
    },
    {
      "cell_type": "code",
      "source": [
        "ticker_symbol.info"
      ],
      "metadata": {
        "colab": {
          "base_uri": "https://localhost:8080/"
        },
        "id": "S2Ab2WTkikBP",
        "outputId": "b038d56d-de99-42f1-bfc9-755219f74ab3"
      },
      "execution_count": null,
      "outputs": [
        {
          "output_type": "execute_result",
          "data": {
            "text/plain": [
              "{'address1': '2485 Augustine Drive',\n",
              " 'city': 'Santa Clara',\n",
              " 'state': 'CA',\n",
              " 'zip': '95054',\n",
              " 'country': 'United States',\n",
              " 'phone': '408 749 4000',\n",
              " 'website': 'https://www.amd.com',\n",
              " 'industry': 'Semiconductors',\n",
              " 'industryKey': 'semiconductors',\n",
              " 'industryDisp': 'Semiconductors',\n",
              " 'sector': 'Technology',\n",
              " 'sectorKey': 'technology',\n",
              " 'sectorDisp': 'Technology',\n",
              " 'longBusinessSummary': 'Advanced Micro Devices, Inc. operates as a semiconductor company worldwide. It operates through Data Center, Client, Gaming, and Embedded segments. The company offers x86 microprocessors and graphics processing units (GPUs) as an accelerated processing unit, chipsets, data center, and professional GPUs; and embedded processors, and semi-custom system-on-chip (SoC) products, microprocessor and SoC development services and technology, data processing unites, field programmable gate arrays (FPGA), and adaptive SoC products. It provides processors under the AMD Ryzen, AMD Ryzen PRO, Ryzen Threadripper, Ryzen Threadripper PRO, AMD Athlon, AMD Athlon PRO, and AMD PRO A-Series brand names; graphics under the AMD Radeon graphics and AMD Embedded Radeon graphics; and professional graphics under the AMD Radeon Pro graphics brand name. In addition, the company offers data center graphics under the Radeon Instinct and Radeon PRO V-series brands, as well as servers under the AMD Instinct accelerators brand; server microprocessors under the AMD EPYC brands; low power solutions under the AMD Athlon, AMD Geode, AMD Ryzen, AMD EPYC, AMD R-Series, and G-Series brands; FPGA products under the Virtex-6, Virtex-7, Virtex UltraScale+, Kintex-7, Kintex UltraScale, Kintex UltraScale+, Artix-7, Artix UltraScale+, Spartan-6, and Spartan-7 brands; adaptive SOCs under the Zynq-7000, Zynq UltraScale+ MPSoC, Zynq UltraScale+ RFSoCs, Versal HBM, Versal Premium, Versal Prime, Versal AI Core, Versal AI Edge, Vitis, and Vivado brands; and compute and network acceleration board products under the Alveo brand. It serves original equipment and design manufacturers, public cloud service providers, system integrators, independent distributors, and add-in-board manufacturers through its direct sales force, and sales representatives. Advanced Micro Devices, Inc. was incorporated in 1969 and is headquartered in Santa Clara, California.',\n",
              " 'fullTimeEmployees': 26000,\n",
              " 'companyOfficers': [{'maxAge': 1,\n",
              "   'name': 'Dr. Lisa T. Su Ph.D.',\n",
              "   'age': 53,\n",
              "   'title': 'Chair, President & CEO',\n",
              "   'yearBorn': 1970,\n",
              "   'fiscalYear': 2023,\n",
              "   'totalPay': 2661511,\n",
              "   'exercisedValue': 120403856,\n",
              "   'unexercisedValue': 84790664},\n",
              "  {'maxAge': 1,\n",
              "   'name': 'Ms. Jean X. Hu',\n",
              "   'age': 60,\n",
              "   'title': 'Executive VP, CFO & Treasurer',\n",
              "   'yearBorn': 1963,\n",
              "   'fiscalYear': 2023,\n",
              "   'totalPay': 3207599,\n",
              "   'exercisedValue': 0,\n",
              "   'unexercisedValue': 0},\n",
              "  {'maxAge': 1,\n",
              "   'name': 'Mr. Forrest E. Norrod',\n",
              "   'age': 58,\n",
              "   'title': 'Executive VP & GM of Data Center Solutions Business Unit',\n",
              "   'yearBorn': 1965,\n",
              "   'fiscalYear': 2023,\n",
              "   'totalPay': 1227544,\n",
              "   'exercisedValue': 0,\n",
              "   'unexercisedValue': 15163074},\n",
              "  {'maxAge': 1,\n",
              "   'name': 'Mr. Philip  Guido',\n",
              "   'title': 'Executive VP & Chief Commercial Officer',\n",
              "   'fiscalYear': 2023,\n",
              "   'totalPay': 3781955,\n",
              "   'exercisedValue': 0,\n",
              "   'unexercisedValue': 0},\n",
              "  {'maxAge': 1,\n",
              "   'name': 'Mr. Keivan  Keshvari',\n",
              "   'title': 'Senior Vice President of Global Operations',\n",
              "   'fiscalYear': 2023,\n",
              "   'exercisedValue': 0,\n",
              "   'unexercisedValue': 0},\n",
              "  {'maxAge': 1,\n",
              "   'name': 'Ms. Darla M. Smith',\n",
              "   'age': 57,\n",
              "   'title': 'Corporate VP & Chief Accounting Officer',\n",
              "   'yearBorn': 1966,\n",
              "   'fiscalYear': 2023,\n",
              "   'exercisedValue': 0,\n",
              "   'unexercisedValue': 0},\n",
              "  {'maxAge': 1,\n",
              "   'name': 'Mr. Mark D. Papermaster',\n",
              "   'age': 61,\n",
              "   'title': 'CTO & Executive VP',\n",
              "   'yearBorn': 1962,\n",
              "   'fiscalYear': 2023,\n",
              "   'totalPay': 1140933,\n",
              "   'exercisedValue': 4836541,\n",
              "   'unexercisedValue': 22460436},\n",
              "  {'maxAge': 1,\n",
              "   'name': 'Mr. Hasmukh  Ranjan',\n",
              "   'title': 'Senior VP & Chief Information Officer',\n",
              "   'fiscalYear': 2023,\n",
              "   'exercisedValue': 0,\n",
              "   'unexercisedValue': 0},\n",
              "  {'maxAge': 1,\n",
              "   'name': 'Mr. Mitchell J. Haws',\n",
              "   'age': 59,\n",
              "   'title': 'Vice President of Investor Relations',\n",
              "   'yearBorn': 1964,\n",
              "   'fiscalYear': 2023,\n",
              "   'exercisedValue': 0,\n",
              "   'unexercisedValue': 0},\n",
              "  {'maxAge': 1,\n",
              "   'name': 'Ms. Ava M. Hahn J.D.',\n",
              "   'age': 50,\n",
              "   'title': 'Senior VP, General Counsel & Corporate Secretary',\n",
              "   'yearBorn': 1973,\n",
              "   'fiscalYear': 2023,\n",
              "   'exercisedValue': 0,\n",
              "   'unexercisedValue': 0}],\n",
              " 'auditRisk': 8,\n",
              " 'boardRisk': 4,\n",
              " 'compensationRisk': 7,\n",
              " 'shareHolderRightsRisk': 3,\n",
              " 'overallRisk': 5,\n",
              " 'governanceEpochDate': 1727481600,\n",
              " 'compensationAsOfEpochDate': 1703980800,\n",
              " 'irWebsite': 'http://phx.corporate-ir.net/phoenix.zhtml?c=74093&p=irol-IRHome',\n",
              " 'maxAge': 86400,\n",
              " 'priceHint': 2,\n",
              " 'previousClose': 164.35,\n",
              " 'open': 163.1,\n",
              " 'dayLow': 162.18,\n",
              " 'dayHigh': 165.08,\n",
              " 'regularMarketPreviousClose': 164.35,\n",
              " 'regularMarketOpen': 163.1,\n",
              " 'regularMarketDayLow': 162.18,\n",
              " 'regularMarketDayHigh': 165.08,\n",
              " 'exDividendDate': 798940800,\n",
              " 'beta': 1.693,\n",
              " 'trailingPE': 195.33334,\n",
              " 'forwardPE': 30.161764,\n",
              " 'volume': 21793347,\n",
              " 'regularMarketVolume': 21793347,\n",
              " 'averageVolume': 47356436,\n",
              " 'averageVolume10days': 31901210,\n",
              " 'averageDailyVolume10Day': 31901210,\n",
              " 'bid': 164.01,\n",
              " 'ask': 164.17,\n",
              " 'bidSize': 100,\n",
              " 'askSize': 500,\n",
              " 'marketCap': 265560195072,\n",
              " 'fiftyTwoWeekLow': 93.12,\n",
              " 'fiftyTwoWeekHigh': 227.3,\n",
              " 'priceToSalesTrailing12Months': 11.409185,\n",
              " 'fiftyDayAverage': 146.5268,\n",
              " 'twoHundredDayAverage': 160.95605,\n",
              " 'currency': 'USD',\n",
              " 'enterpriseValue': 262902497280,\n",
              " 'profitMargins': 0.05817,\n",
              " 'floatShares': 1607411429,\n",
              " 'sharesOutstanding': 1618480000,\n",
              " 'sharesShort': 46399604,\n",
              " 'sharesShortPriorMonth': 48226352,\n",
              " 'sharesShortPreviousMonthDate': 1723680000,\n",
              " 'dateShortInterest': 1726185600,\n",
              " 'sharesPercentSharesOut': 0.0287,\n",
              " 'heldPercentInsiders': 0.00493,\n",
              " 'heldPercentInstitutions': 0.72424006,\n",
              " 'shortRatio': 1.16,\n",
              " 'shortPercentOfFloat': 0.028800001,\n",
              " 'impliedSharesOutstanding': 1618480000,\n",
              " 'bookValue': 34.943,\n",
              " 'priceToBook': 4.6956472,\n",
              " 'lastFiscalYearEnd': 1703894400,\n",
              " 'nextFiscalYearEnd': 1735516800,\n",
              " 'mostRecentQuarter': 1719619200,\n",
              " 'earningsQuarterlyGrowth': 8.815,\n",
              " 'netIncomeToCommon': 1354000000,\n",
              " 'trailingEps': 0.84,\n",
              " 'forwardEps': 5.44,\n",
              " 'pegRatio': 1.47,\n",
              " 'lastSplitFactor': '2:1',\n",
              " 'lastSplitDate': 966902400,\n",
              " 'enterpriseToRevenue': 11.295,\n",
              " 'enterpriseToEbitda': 64.978,\n",
              " '52WeekChange': 0.5914593,\n",
              " 'SandP52WeekChange': 0.338071,\n",
              " 'exchange': 'NMS',\n",
              " 'quoteType': 'EQUITY',\n",
              " 'symbol': 'AMD',\n",
              " 'underlyingSymbol': 'AMD',\n",
              " 'shortName': 'Advanced Micro Devices, Inc.',\n",
              " 'longName': 'Advanced Micro Devices, Inc.',\n",
              " 'firstTradeDateEpochUtc': 322151400,\n",
              " 'timeZoneFullName': 'America/New_York',\n",
              " 'timeZoneShortName': 'EDT',\n",
              " 'uuid': '48af4341-f745-363f-945f-a838eeabb062',\n",
              " 'messageBoardId': 'finmb_168864',\n",
              " 'gmtOffSetMilliseconds': -14400000,\n",
              " 'currentPrice': 164.08,\n",
              " 'targetHighPrice': 250.0,\n",
              " 'targetLowPrice': 140.0,\n",
              " 'targetMeanPrice': 186.48,\n",
              " 'targetMedianPrice': 190.0,\n",
              " 'recommendationMean': 1.9,\n",
              " 'recommendationKey': 'buy',\n",
              " 'numberOfAnalystOpinions': 39,\n",
              " 'totalCash': 5340000256,\n",
              " 'totalCashPerShare': 3.299,\n",
              " 'ebitda': 4046000128,\n",
              " 'totalDebt': 2244999936,\n",
              " 'quickRatio': 1.794,\n",
              " 'currentRatio': 2.819,\n",
              " 'totalRevenue': 23275999232,\n",
              " 'debtToEquity': 3.971,\n",
              " 'revenuePerShare': 14.399,\n",
              " 'returnOnAssets': 0.00801,\n",
              " 'returnOnEquity': 0.024249999,\n",
              " 'freeCashflow': 2112999936,\n",
              " 'operatingCashflow': 1916000000,\n",
              " 'earningsGrowth': 8.553,\n",
              " 'revenueGrowth': 0.089,\n",
              " 'grossMargins': 0.51418,\n",
              " 'ebitdaMargins': 0.17382999,\n",
              " 'operatingMargins': 0.0461,\n",
              " 'financialCurrency': 'USD',\n",
              " 'trailingPegRatio': 0.4214}"
            ]
          },
          "metadata": {},
          "execution_count": 26
        }
      ]
    },
    {
      "cell_type": "code",
      "source": [
        "def format_number(value):\n",
        "    \"\"\"\n",
        "    Formats large numbers into billions (B) or millions (M) with two decimal places.\n",
        "    \"\"\"\n",
        "    try:\n",
        "        if value >= 1_000_000_000:\n",
        "            return f\"${value/1_000_000_000:.2f}B\"\n",
        "        elif value >= 1_000_000:\n",
        "            return f\"${value/1_000_000:.2f}M\"\n",
        "        else:\n",
        "            return f\"${value:,.2f}\"\n",
        "    except:\n",
        "        return \"N/A\""
      ],
      "metadata": {
        "id": "09xE1-j0nupq"
      },
      "execution_count": null,
      "outputs": []
    },
    {
      "cell_type": "code",
      "source": [
        "def fetch_stock_details(ticker_symbol):\n",
        "    ticker = yf.Ticker(ticker_symbol)\n",
        "    info = ticker.info\n",
        "\n",
        "    # Extract company details\n",
        "    company_name = info.get('longName', 'N/A')\n",
        "    ceo = info.get('ceo', 'N/A')\n",
        "    website = info.get('website', 'N/A')\n",
        "    sector = info.get('sector', 'N/A')\n",
        "\n",
        "    # yfinance may not have 'founded', so set to 'N/A'\n",
        "    year_founded = info.get('founded', 'N/A')\n",
        "    profile = info.get('longBusinessSummary', 'N/A')\n",
        "\n",
        "    # Financial Metrics\n",
        "    market_cap = format_number(info.get('marketCap', 0))\n",
        "    enterprise_value = format_number(info.get('enterpriseValue', 0))\n",
        "    shares_outstanding = format_number(info.get('sharesOutstanding', 0))\n",
        "    revenue = format_number(info.get('totalRevenue', 0))\n",
        "    employees = format_number(info.get('fullTimeEmployees', 0))\n",
        "\n",
        "    return company_name, ceo, website, sector, year_founded, profile, market_cap, enterprise_value, shares_outstanding, revenue, employees"
      ],
      "metadata": {
        "id": "WWHFmIs1lZ5K"
      },
      "execution_count": null,
      "outputs": []
    },
    {
      "cell_type": "code",
      "source": [
        "fetch_stock_details('amd')"
      ],
      "metadata": {
        "colab": {
          "base_uri": "https://localhost:8080/"
        },
        "id": "6UZAX0DonYYQ",
        "outputId": "60075fc5-eed4-49cb-9875-506f328abc26"
      },
      "execution_count": null,
      "outputs": [
        {
          "output_type": "execute_result",
          "data": {
            "text/plain": [
              "('Advanced Micro Devices, Inc.',\n",
              " 'N/A',\n",
              " 'https://www.amd.com',\n",
              " 'Technology',\n",
              " 'N/A',\n",
              " 'Advanced Micro Devices, Inc. operates as a semiconductor company worldwide. It operates through Data Center, Client, Gaming, and Embedded segments. The company offers x86 microprocessors and graphics processing units (GPUs) as an accelerated processing unit, chipsets, data center, and professional GPUs; and embedded processors, and semi-custom system-on-chip (SoC) products, microprocessor and SoC development services and technology, data processing unites, field programmable gate arrays (FPGA), and adaptive SoC products. It provides processors under the AMD Ryzen, AMD Ryzen PRO, Ryzen Threadripper, Ryzen Threadripper PRO, AMD Athlon, AMD Athlon PRO, and AMD PRO A-Series brand names; graphics under the AMD Radeon graphics and AMD Embedded Radeon graphics; and professional graphics under the AMD Radeon Pro graphics brand name. In addition, the company offers data center graphics under the Radeon Instinct and Radeon PRO V-series brands, as well as servers under the AMD Instinct accelerators brand; server microprocessors under the AMD EPYC brands; low power solutions under the AMD Athlon, AMD Geode, AMD Ryzen, AMD EPYC, AMD R-Series, and G-Series brands; FPGA products under the Virtex-6, Virtex-7, Virtex UltraScale+, Kintex-7, Kintex UltraScale, Kintex UltraScale+, Artix-7, Artix UltraScale+, Spartan-6, and Spartan-7 brands; adaptive SOCs under the Zynq-7000, Zynq UltraScale+ MPSoC, Zynq UltraScale+ RFSoCs, Versal HBM, Versal Premium, Versal Prime, Versal AI Core, Versal AI Edge, Vitis, and Vivado brands; and compute and network acceleration board products under the Alveo brand. It serves original equipment and design manufacturers, public cloud service providers, system integrators, independent distributors, and add-in-board manufacturers through its direct sales force, and sales representatives. Advanced Micro Devices, Inc. was incorporated in 1969 and is headquartered in Santa Clara, California.',\n",
              " '$265.56B',\n",
              " '$262.90B',\n",
              " '$1.62B',\n",
              " '$23.28B',\n",
              " '$26,000.00')"
            ]
          },
          "metadata": {},
          "execution_count": 32
        }
      ]
    },
    {
      "cell_type": "code",
      "source": [
        "import yfinance as yf\n",
        "import pandas as pd\n",
        "\n",
        "\n",
        "def get_comp_info(ticker_name):\n",
        "  try:\n",
        "        # Initialize the Ticker object\n",
        "        ticker = yf.Ticker(ticker_name)\n",
        "\n",
        "        # Fetch the info dictionary\n",
        "        stock_info = ticker.info\n",
        "\n",
        "        # **Profile Information**\n",
        "        company_name = stock_info.get('longName', 'N/A')\n",
        "        ceo = stock_info.get('ceo', 'N/A')  # Note: 'ceo' may not always be available\n",
        "        website = stock_info.get('website', 'N/A')\n",
        "        sector = stock_info.get('sector', 'N/A')\n",
        "        year_founded = stock_info.get('founded', 'N/A')  # Note: 'founded' may not always be available\n",
        "        profile = stock_info.get('longBusinessSummary', 'N/A')\n",
        "\n",
        "        # **Financial Metrics**\n",
        "        market_cap = stock_info.get('marketCap', 'N/A')\n",
        "        enterprise_value = stock_info.get('enterpriseValue', 'N/A')\n",
        "        shares_outstanding = stock_info.get('sharesOutstanding', 'N/A')\n",
        "        revenue = stock_info.get('totalRevenue', 'N/A')  # Changed to 'totalRevenue'\n",
        "        employees = stock_info.get('fullTimeEmployees', 'N/A')\n",
        "\n",
        "        # Organize data into a dictionary\n",
        "        data = {\n",
        "            # **Profile Information**\n",
        "            \"Name\": company_name,\n",
        "            \"CEO\": ceo,\n",
        "            \"Website\": website,\n",
        "            \"Sector\": sector,\n",
        "            \"Year Founded\": year_founded,\n",
        "            \"Profile\": profile,\n",
        "\n",
        "            # **Financial Metrics**\n",
        "            \"Market Cap\": market_cap,\n",
        "            \"EV\": enterprise_value,\n",
        "            \"Shares Outstanding\": shares_outstanding,\n",
        "            \"Revenue\": revenue,\n",
        "            \"Employees\": employees\n",
        "        }\n",
        "\n",
        "        # Create a DataFrame\n",
        "        df = pd.DataFrame([data])\n",
        "\n",
        "        return df\n",
        "\n",
        "  except Exception as e:\n",
        "        print(f\"An error occurred while fetching data for ticker '{ticker_name}': {e}\")\n",
        "        return None\n",
        "\n",
        "\n",
        "# Example Usage\n",
        "if __name__ == \"__main__\":\n",
        "    ticker = 'AMD'  # Example ticker symbol\n",
        "    company_df = get_comp_info(ticker)\n",
        "\n",
        "    if company_df is not None:\n",
        "        print(company_df)\n",
        "    else:\n",
        "        print(\"Failed to retrieve company information.\")"
      ],
      "metadata": {
        "colab": {
          "base_uri": "https://localhost:8080/"
        },
        "id": "RSIPUUaTnlZw",
        "outputId": "66758c0c-3f51-46eb-9cf2-2f5c9d82ae82"
      },
      "execution_count": null,
      "outputs": [
        {
          "output_type": "stream",
          "name": "stdout",
          "text": [
            "                           Name  CEO              Website      Sector  \\\n",
            "0  Advanced Micro Devices, Inc.  N/A  https://www.amd.com  Technology   \n",
            "\n",
            "  Year Founded                                            Profile  \\\n",
            "0          N/A  Advanced Micro Devices, Inc. operates as a sem...   \n",
            "\n",
            "     Market Cap            EV  Shares Outstanding      Revenue  Employees  \n",
            "0  265998286848  262465503232          1618480000  23275999232      26000  \n"
          ]
        }
      ]
    },
    {
      "cell_type": "code",
      "source": [
        "import yfinance as yf\n",
        "def get_company_overview(ticker):\n",
        "    stock = yf.Ticker(ticker)\n",
        "    info = stock.info\n",
        "    overview = {\n",
        "        \"company_name\": info.get(\"longName\"),\n",
        "        \"ticker\": info.get(\"symbol\"),\n",
        "        \"exchange\": info.get(\"exchange\"),\n",
        "        \"industry\": info.get(\"industry\"),\n",
        "        \"ceo\": info.get(\"ceo\") or info.get(\"companyOfficers\")[0]['name'] if info.get(\"companyOfficers\") else \"N/A\",\n",
        "        \"year_founded\": info.get(\"startDate\"),\n",
        "        \"headquarters\": f\"{info.get('city')}, {info.get('state')}\" if info.get(\"city\") and info.get(\"state\") else \"N/A\",\n",
        "        \"description\": info.get(\"longBusinessSummary\")\n",
        "    }\n",
        "    return overview\n",
        "\n"
      ],
      "metadata": {
        "id": "VYFRUvy9lPKi"
      },
      "execution_count": 3,
      "outputs": []
    },
    {
      "cell_type": "code",
      "source": [
        "get_company_overview('amd')"
      ],
      "metadata": {
        "colab": {
          "base_uri": "https://localhost:8080/"
        },
        "id": "37Zmm2ndbD_I",
        "outputId": "a6d4dfdc-51fe-4723-e9eb-55a328468160"
      },
      "execution_count": 4,
      "outputs": [
        {
          "output_type": "execute_result",
          "data": {
            "text/plain": [
              "{'company_name': 'Advanced Micro Devices, Inc.',\n",
              " 'ticker': 'AMD',\n",
              " 'exchange': 'NMS',\n",
              " 'industry': 'Semiconductors',\n",
              " 'ceo': 'Dr. Lisa T. Su Ph.D.',\n",
              " 'year_founded': None,\n",
              " 'headquarters': 'Santa Clara, CA',\n",
              " 'description': 'Advanced Micro Devices, Inc. operates as a semiconductor company worldwide. It operates through Data Center, Client, Gaming, and Embedded segments. The company offers x86 microprocessors and graphics processing units (GPUs) as an accelerated processing unit, chipsets, data center, and professional GPUs; and embedded processors, and semi-custom system-on-chip (SoC) products, microprocessor and SoC development services and technology, data processing unites, field programmable gate arrays (FPGA), and adaptive SoC products. It provides processors under the AMD Ryzen, AMD Ryzen PRO, Ryzen Threadripper, Ryzen Threadripper PRO, AMD Athlon, AMD Athlon PRO, and AMD PRO A-Series brand names; graphics under the AMD Radeon graphics and AMD Embedded Radeon graphics; and professional graphics under the AMD Radeon Pro graphics brand name. In addition, the company offers data center graphics under the Radeon Instinct and Radeon PRO V-series brands, as well as servers under the AMD Instinct accelerators brand; server microprocessors under the AMD EPYC brands; low power solutions under the AMD Athlon, AMD Geode, AMD Ryzen, AMD EPYC, AMD R-Series, and G-Series brands; FPGA products under the Virtex-6, Virtex-7, Virtex UltraScale+, Kintex-7, Kintex UltraScale, Kintex UltraScale+, Artix-7, Artix UltraScale+, Spartan-6, and Spartan-7 brands; adaptive SOCs under the Zynq-7000, Zynq UltraScale+ MPSoC, Zynq UltraScale+ RFSoCs, Versal HBM, Versal Premium, Versal Prime, Versal AI Core, Versal AI Edge, Vitis, and Vivado brands; and compute and network acceleration board products under the Alveo brand. It serves original equipment and design manufacturers, public cloud service providers, system integrators, independent distributors, and add-in-board manufacturers through its direct sales force, and sales representatives. Advanced Micro Devices, Inc. was incorporated in 1969 and is headquartered in Santa Clara, California.'}"
            ]
          },
          "metadata": {},
          "execution_count": 4
        }
      ]
    },
    {
      "cell_type": "code",
      "source": [
        "def get_financial_metrics(ticker):\n",
        "    stock = yf.Ticker(ticker)\n",
        "    info = stock.info\n",
        "    metrics = {\n",
        "        \"market_cap\": info.get(\"marketCap\"),\n",
        "        \"total_revenue\": info.get(\"totalRevenue\"),\n",
        "        \"gross_profit_margin\": info.get(\"grossMargins\"),\n",
        "        \"ebitda_margin\": info.get(\"ebitdaMargins\"),\n",
        "        \"operating_margin\": info.get(\"operatingMargins\"),\n",
        "        \"net_profit_margin\": info.get(\"profitMargins\"),\n",
        "        \"eps_diluted\": info.get(\"trailingEps\"),\n",
        "        \"pe_ratio\": info.get(\"trailingPE\"),\n",
        "        \"forward_pe_ratio\": info.get(\"forwardPE\")\n",
        "    }\n",
        "    return metrics"
      ],
      "metadata": {
        "id": "jGZO_H9gbFZ4"
      },
      "execution_count": 5,
      "outputs": []
    },
    {
      "cell_type": "code",
      "source": [
        "get_financial_metrics(\"amd\")"
      ],
      "metadata": {
        "colab": {
          "base_uri": "https://localhost:8080/"
        },
        "id": "5qFCoyStbM5v",
        "outputId": "3c881942-0be6-4cac-a13f-7a76d5a818fd"
      },
      "execution_count": 6,
      "outputs": [
        {
          "output_type": "execute_result",
          "data": {
            "text/plain": [
              "{'market_cap': 265560195072,\n",
              " 'total_revenue': 23275999232,\n",
              " 'gross_profit_margin': 0.51418,\n",
              " 'ebitda_margin': 0.17382999,\n",
              " 'operating_margin': 0.0461,\n",
              " 'net_profit_margin': 0.05817,\n",
              " 'eps_diluted': 0.84,\n",
              " 'pe_ratio': 195.33334,\n",
              " 'forward_pe_ratio': 30.161764}"
            ]
          },
          "metadata": {},
          "execution_count": 6
        }
      ]
    },
    {
      "cell_type": "code",
      "source": [
        "def get_recent_news(ticker):\n",
        "    stock = yf.Ticker(ticker)\n",
        "    news_items = stock.news[:5]  # Get the latest 5 news articles\n",
        "    news_list = []\n",
        "    for item in news_items:\n",
        "        news_list.append({\n",
        "            \"title\": item.get(\"title\"),\n",
        "            \"publisher\": item.get(\"publisher\"),\n",
        "            \"link\": item.get(\"link\"),\n",
        "            \"published_time\": item.get(\"providerPublishTime\")\n",
        "        })\n",
        "    return news_list"
      ],
      "metadata": {
        "id": "8rCA8W9NbPUo"
      },
      "execution_count": 7,
      "outputs": []
    },
    {
      "cell_type": "code",
      "source": [
        "get_recent_news(\"micron technologies\")"
      ],
      "metadata": {
        "colab": {
          "base_uri": "https://localhost:8080/"
        },
        "id": "YhwMNoXBbYqX",
        "outputId": "6c4cae26-7d14-40f3-f72b-5f22fb7c1f9f"
      },
      "execution_count": 8,
      "outputs": [
        {
          "output_type": "execute_result",
          "data": {
            "text/plain": [
              "[{'title': \"China's envoy in Washington warns US against 'strategic miscalculation', pledges investment opportunities\",\n",
              "  'publisher': 'South China Morning Post',\n",
              "  'link': 'https://finance.yahoo.com/news/chinas-envoy-washington-warns-us-093000112.html',\n",
              "  'published_time': 1727775000},\n",
              " {'title': 'JD Industrials refiles Hong Kong IPO plan to ride China stocks wave',\n",
              "  'publisher': 'South China Morning Post',\n",
              "  'link': 'https://finance.yahoo.com/news/jd-industrials-refiles-hong-kong-093000540.html',\n",
              "  'published_time': 1727775000},\n",
              " {'title': \"3 Things That Dollar General Bears Just Don't Get About the Company Right Now\",\n",
              "  'publisher': 'Motley Fool',\n",
              "  'link': 'https://finance.yahoo.com/m/253a88c5-b005-3d52-922f-ce911ca0c57a/3-things-that-dollar-general.html',\n",
              "  'published_time': 1727775000},\n",
              " {'title': 'China, Asean aim to clinch free-trade deal upgrade led by EVs, e-commerce',\n",
              "  'publisher': 'South China Morning Post',\n",
              "  'link': 'https://finance.yahoo.com/news/china-asean-aim-clinch-free-093000423.html',\n",
              "  'published_time': 1727775000},\n",
              " {'title': \"Hong Kong, mainland China's US$1.8 trillion stock boom sparks rush of millennial investors\",\n",
              "  'publisher': 'South China Morning Post',\n",
              "  'link': 'https://finance.yahoo.com/news/hong-kong-mainland-chinas-us-093000700.html',\n",
              "  'published_time': 1727775000}]"
            ]
          },
          "metadata": {},
          "execution_count": 8
        }
      ]
    },
    {
      "cell_type": "code",
      "source": [],
      "metadata": {
        "id": "LC_PU6tkbcc_"
      },
      "execution_count": null,
      "outputs": []
    }
  ]
}